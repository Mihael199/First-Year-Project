{
 "cells": [
  {
   "cell_type": "code",
   "execution_count": 25,
   "metadata": {},
   "outputs": [
    {
     "name": "stdout",
     "output_type": "stream",
     "text": [
      "725\n",
      "253\n"
     ]
    }
   ],
   "source": [
    "import pandas as pd\n",
    "from sklearn.model_selection import GroupShuffleSplit\n",
    "\n",
    "df = pd.read_csv('features_asymmetry_score_fully_rotated_full.csv')\n",
    "df['person_id']=df['Name_Of_Picture'].str.split('_').str[1]\n",
    "gss = GroupShuffleSplit(n_splits=1, test_size=0.25) # proportions of people\n",
    "X = df.drop(columns=['cancer_or_not'])\n",
    "y = df['cancer_or_not']\n",
    "groups=df['person_id']\n",
    "split = next(gss.split(X, y, groups))\n",
    "\n",
    "train, test = split\n",
    "\n",
    "print(train.shape[0])\n",
    "print(test.shape[0])\n",
    "train = df.iloc[train]\n",
    "test = df.iloc[test]\n",
    "\n",
    "train.to_csv('train_75_people_data.csv')\n",
    "test.to_csv('test_25_people_data.csv')"
   ]
  }
 ],
 "metadata": {
  "kernelspec": {
   "display_name": "Python 3",
   "language": "python",
   "name": "python3"
  },
  "language_info": {
   "codemirror_mode": {
    "name": "ipython",
    "version": 3
   },
   "file_extension": ".py",
   "mimetype": "text/x-python",
   "name": "python",
   "nbconvert_exporter": "python",
   "pygments_lexer": "ipython3",
   "version": "3.10.14"
  }
 },
 "nbformat": 4,
 "nbformat_minor": 2
}
