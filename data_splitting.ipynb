{
 "cells": [
  {
   "cell_type": "code",
   "execution_count": 1,
   "metadata": {},
   "outputs": [
    {
     "name": "stdout",
     "output_type": "stream",
     "text": [
      "200\n",
      "778\n"
     ]
    }
   ],
   "source": [
    "import pandas as pd\n",
    "\n",
    "df = pd.read_csv('features_final_extraction.csv')\n",
    "\n",
    "df_cancer = df[df['cancer_or_not'] == 1].copy()\n",
    "df_not_cancer = df[df['cancer_or_not'] == 0].copy()\n",
    "\n",
    "cancer_id = df_cancer['Name_Of_Picture'].sample(100).copy()\n",
    "not_canceer_id = df_not_cancer['Name_Of_Picture'].sample(100).copy()\n",
    "\n",
    "combine = [cancer_id, not_canceer_id]\n",
    "\n",
    "result = pd.concat(combine)\n",
    "result = result.to_frame()\n",
    "result.sort_index(inplace=True)\n",
    "\n",
    "list_test_data = [x for x in result['Name_Of_Picture']]\n",
    "\n",
    "df_test = pd.DataFrame()\n",
    "df_train = pd.DataFrame()\n",
    "\n",
    "i = 0\n",
    "for x in range(len(df)):\n",
    "    if df['Name_Of_Picture'][x] in list_test_data:\n",
    "        i += 1\n",
    "        df_test = df_test._append(df.loc[x])\n",
    "    else:\n",
    "        df_train = df_train._append(df.loc[x])\n",
    "\n",
    "\n",
    "\n",
    "\n",
    "print(len(df_test))\n",
    "print(len(df_train))\n",
    "\n",
    "df_test.to_csv('test_data.csv')\n",
    "df_train.to_csv('train_data.csv')\n"
   ]
  }
 ],
 "metadata": {
  "kernelspec": {
   "display_name": "Python 3",
   "language": "python",
   "name": "python3"
  },
  "language_info": {
   "codemirror_mode": {
    "name": "ipython",
    "version": 3
   },
   "file_extension": ".py",
   "mimetype": "text/x-python",
   "name": "python",
   "nbconvert_exporter": "python",
   "pygments_lexer": "ipython3",
   "version": "3.11.5"
  }
 },
 "nbformat": 4,
 "nbformat_minor": 2
}
