{
 "cells": [
  {
   "cell_type": "code",
   "execution_count": 62,
   "metadata": {},
   "outputs": [
    {
     "name": "stdout",
     "output_type": "stream",
     "text": [
      "574\n",
      "404\n"
     ]
    }
   ],
   "source": [
    "import pandas as pd\n",
    "from sklearn.model_selection import GroupShuffleSplit, StratifiedGroupKFold\n",
    "import numpy as np\n",
    "\n",
    "df = pd.read_csv('features_asymmetry_score_fully_rotated_full.csv')\n",
    "df['person_id']=df['Name_Of_Picture'].str.split('_').str[1]\n",
    "X = df.drop(columns=['cancer_or_not'])\n",
    "y = df['cancer_or_not']\n",
    "groups=df['person_id']\n",
    "print(df[df['cancer_or_not']==1].shape[0])\n",
    "print(df[df['cancer_or_not']==0].shape[0])\n"
   ]
  },
  {
   "cell_type": "code",
   "execution_count": 56,
   "metadata": {},
   "outputs": [
    {
     "name": "stdout",
     "output_type": "stream",
     "text": [
      "Size of train\n",
      "741\n",
      "Size of test\n",
      "237\n",
      "Cancer and non cancer in train\n",
      "445\n",
      "Non cancer in train\n",
      "296\n",
      "Cancer test\n",
      "129\n",
      "Non cancer in test\n",
      "108\n"
     ]
    }
   ],
   "source": [
    "### Groups Shuffle Split\n",
    "gss = GroupShuffleSplit(n_splits=1, test_size=0.25) # proportions of people\n",
    "split = next(gss.split(X, y, groups))"
   ]
  },
  {
   "cell_type": "code",
   "execution_count": 63,
   "metadata": {},
   "outputs": [],
   "source": [
    "sgkf = StratifiedGroupKFold(n_splits=4)\n",
    "split = next(sgkf.split(X, y, groups))"
   ]
  },
  {
   "cell_type": "code",
   "execution_count": 64,
   "metadata": {},
   "outputs": [
    {
     "name": "stdout",
     "output_type": "stream",
     "text": [
      "Size of train\n",
      "734\n",
      "Size of test\n",
      "244\n",
      "Cancer and non cancer in train\n",
      "430\n",
      "Non cancer in train\n",
      "304\n",
      "Cancer test\n",
      "144\n",
      "Non cancer in test\n",
      "100\n"
     ]
    }
   ],
   "source": [
    "\n",
    "train, test = split\n",
    "print(\"Size of train\")\n",
    "print(train.shape[0])\n",
    "print(\"Size of test\")\n",
    "print(test.shape[0])\n",
    "df_train = df.iloc[train]\n",
    "df_test = df.iloc[test]\n",
    "\n",
    "\n",
    "print(\"Cancer and non cancer in train\")\n",
    "print(df_train[df_train['cancer_or_not']==1].shape[0])\n",
    "print(\"Non cancer in train\")\n",
    "print(df_train[df_train['cancer_or_not']==0].shape[0])\n",
    "print(\"Cancer test\")\n",
    "print(df_test[df_test['cancer_or_not']==1].shape[0])\n",
    "print(\"Non cancer in test\")\n",
    "print(df_test[df_test['cancer_or_not']==0].shape[0])\n",
    "\n",
    "df_train.to_csv('train_75_people_data.csv')\n",
    "df_test.to_csv('test_25_people_data.csv')"
   ]
  }
 ],
 "metadata": {
  "kernelspec": {
   "display_name": "Python 3",
   "language": "python",
   "name": "python3"
  },
  "language_info": {
   "codemirror_mode": {
    "name": "ipython",
    "version": 3
   },
   "file_extension": ".py",
   "mimetype": "text/x-python",
   "name": "python",
   "nbconvert_exporter": "python",
   "pygments_lexer": "ipython3",
   "version": "3.10.14"
  }
 },
 "nbformat": 4,
 "nbformat_minor": 2
}
