{
 "cells": [
  {
   "cell_type": "code",
   "execution_count": 2,
   "id": "5a56878d-9312-48e6-ba35-045ef519c14a",
   "metadata": {},
   "outputs": [],
   "source": [
    "import numpy as np\n",
    "import pickle\n",
    "from sklearn.preprocessing import StandardScaler\n",
    "from sklearn.linear_model import LogisticRegression\n",
    "from sklearn.metrics import accuracy_score, precision_score, recall_score, f1_score\n",
    "from sklearn.feature_selection import RFE\n",
    "import pandas as pd\n",
    "import matplotlib.pyplot as plt\n",
    "import seaborn as sns\n",
    "import pandas as pd\n",
    "from sklearn.model_selection import train_test_split\n",
    "from sklearn.ensemble import RandomForestClassifier\n",
    "from sklearn.metrics import accuracy_score\n",
    "from sklearn.preprocessing import StandardScaler\n",
    "from sklearn.neighbors import KNeighborsClassifier\n",
    "from sklearn.metrics import confusion_matrix, ConfusionMatrixDisplay\n",
    "from sklearn.metrics import confusion_matrix, ConfusionMatrixDisplay\n",
    "from sklearn.decomposition import PCA\n",
    "from sklearn .metrics import roc_auc_score\n",
    "import statistics"
   ]
  },
  {
   "cell_type": "markdown",
   "id": "76276a78",
   "metadata": {},
   "source": [
    "f_orgnl - best 12, th=0.435: 0.6993865030674846; rf (): 0.7310657596371882; best k-nn (33): 0.6229326513213981\n",
    "f_op_1 - best : ; rf: ; best k-nn (): \n",
    "f_op_2 - best : ; rf: ; best k-nn (): \n",
    "f_op_3 - best : ; rf: ; best k-nn (): "
   ]
  },
  {
   "cell_type": "code",
   "execution_count": 3,
   "id": "097a1a22-e4d6-4ac5-b01f-83f60a4bfd39",
   "metadata": {},
   "outputs": [],
   "source": [
    "# Load the data\n",
    "sti_features = 'train_75_people_data.csv'\n",
    "#sti_features ='features_optimized_1.csv'\n",
    "#sti_features ='features_optimized_2.csv'\n",
    "#sti_features ='features_optimized_3.csv'\n",
    "\n",
    "data = pd.read_csv(sti_features)"
   ]
  },
  {
   "cell_type": "code",
   "execution_count": 1,
   "id": "85e24d59",
   "metadata": {},
   "outputs": [],
   "source": [
    "import numpy as np\n",
    "import pandas as pd\n",
    "from sklearn.ensemble import RandomForestClassifier\n",
    "from sklearn.neighbors import KNeighborsClassifier\n",
    "from sklearn.decomposition import PCA\n",
    "from sklearn.model_selection import cross_validate, StratifiedKFold\n",
    "from sklearn.metrics import accuracy_score, recall_score, roc_auc_score, precision_recall_curve\n",
    "\n",
    "class Models_validator:\n",
    "    def __init__(self, x, y):\n",
    "        self.x = x\n",
    "        self.y = y\n",
    "        self.scoring = ('accuracy', 'recall', 'roc_auc')\n",
    "\n",
    "    def get_scores(self, clf, p1, p2):\n",
    "        if clf == 'rf':\n",
    "            classifier = RandomForestClassifier(n_estimators=p1, max_depth=p2, bootstrap=True, random_state=42)\n",
    "            scores = cross_validate(classifier, self.x, self.y, cv=5, scoring=self.scoring, return_estimator=True)\n",
    "        elif clf == 'knn':\n",
    "            pca = PCA(n_components=p1)\n",
    "            pca_component = pca.fit_transform(self.x)\n",
    "            classifier = KNeighborsClassifier(n_neighbors=p2)\n",
    "            scores = cross_validate(classifier, pca_component, self.y, cv=5, scoring=self.scoring, return_estimator=True)\n",
    "        return scores\n",
    "\n",
    "    def find_best_threshold(self, model, X_val, y_val):\n",
    "        probas = model.predict_proba(X_val)[:, 1]\n",
    "        precision, recall, thresholds = precision_recall_curve(y_val, probas)\n",
    "        f1_scores = 2 * (precision * recall) / (precision + recall)\n",
    "        best_threshold_index = np.argmax(f1_scores)\n",
    "        best_threshold = thresholds[best_threshold_index]\n",
    "        return best_threshold\n",
    "\n",
    "    def maximize_score(self, clf, range1, range2, score_label=\"roc_auc\", min_accuracy=0.0):\n",
    "        p1_p2list = dict()\n",
    "        p1_p2 = dict()\n",
    "        p1_score = dict()\n",
    "        p1_accuracy = dict()\n",
    "        best_thresholds = dict()\n",
    "\n",
    "        print(f\"Training: {clf}\")\n",
    "        for p1 in range1:\n",
    "            print(f\"progress: {round(100 * p1 / range1[-1], 2)}%\")\n",
    "            p2_acc = dict()\n",
    "            p2_score = dict()\n",
    "            for p2 in range2:\n",
    "                scores = self.get_scores(clf, p1, p2)\n",
    "                accuracy = scores['test_accuracy'].mean()\n",
    "                score = scores['test_' + score_label].mean()\n",
    "\n",
    "                if accuracy >= min_accuracy:\n",
    "                    p2_acc[p2] = accuracy\n",
    "                    p2_score[p2] = score\n",
    "\n",
    "                    # Find best threshold for the current model\n",
    "                    skf = StratifiedKFold(n_splits=5)\n",
    "                    thresholds = []\n",
    "                    for train_index, val_index in skf.split(self.x, self.y):\n",
    "                        X_train, X_val = self.x[train_index], self.x[val_index]\n",
    "                        y_train, y_val = self.y[train_index], self.y[val_index]\n",
    "\n",
    "                        if clf == 'rf':\n",
    "                            classifier = RandomForestClassifier(n_estimators=p1, max_depth=p2, bootstrap=True, random_state=42)\n",
    "                        elif clf == 'knn':\n",
    "                            pca = PCA(n_components=p1)\n",
    "                            X_train = pca.fit_transform(X_train)\n",
    "                            X_val = pca.transform(X_val)\n",
    "                            classifier = KNeighborsClassifier(n_neighbors=p2)\n",
    "\n",
    "                        classifier.fit(X_train, y_train)\n",
    "                        best_threshold = self.find_best_threshold(classifier, X_val, y_val)\n",
    "                        thresholds.append(best_threshold)\n",
    "\n",
    "                    best_thresholds[(p1, p2)] = np.mean(thresholds)\n",
    "\n",
    "            p1_p2list[p1] = p2_score.values()\n",
    "\n",
    "            if len(p2_score.keys()) > 0:\n",
    "                best_score = max(p2_score.values())\n",
    "                p1_score[p1] = best_score\n",
    "                p2_for_best_score = self.select_key(p2_score, best_score)\n",
    "                p1_p2[p1] = p2_for_best_score\n",
    "                p1_accuracy[p1] = p2_acc[p2_for_best_score]\n",
    "\n",
    "        if len(p1_score.values()) > 0:\n",
    "            maxscore = max(p1_score.values())\n",
    "            p1 = self.select_key(p1_score, maxscore)\n",
    "            acc = p1_accuracy[p1]\n",
    "            best_threshold = best_thresholds[(p1, p1_p2[p1])]\n",
    "\n",
    "            d = {\"score\": maxscore, \"accuracy\": acc, \"p1\": p1, \"p2\": p1_p2[p1], \"best_threshold\": best_threshold}\n",
    "            return d\n",
    "        return f\"No model with accuracy at least {min_accuracy}\"\n",
    "\n",
    "    def select_key(self, dictionary, value):\n",
    "        for k, v in dictionary.items():\n",
    "            if v == value:\n",
    "                return k\n"
   ]
  },
  {
   "cell_type": "code",
   "execution_count": 7,
   "id": "f8110409",
   "metadata": {},
   "outputs": [
    {
     "name": "stdout",
     "output_type": "stream",
     "text": [
      "Training: knn\n",
      "progress: 8.33%\n"
     ]
    },
    {
     "name": "stderr",
     "output_type": "stream",
     "text": [
      "C:\\Users\\andra\\AppData\\Local\\Temp\\ipykernel_5020\\91800253.py:29: RuntimeWarning: invalid value encountered in divide\n",
      "  f1_scores = 2 * (precision * recall) / (precision + recall)\n",
      "C:\\Users\\andra\\AppData\\Local\\Temp\\ipykernel_5020\\91800253.py:29: RuntimeWarning: invalid value encountered in divide\n",
      "  f1_scores = 2 * (precision * recall) / (precision + recall)\n",
      "C:\\Users\\andra\\AppData\\Local\\Temp\\ipykernel_5020\\91800253.py:29: RuntimeWarning: invalid value encountered in divide\n",
      "  f1_scores = 2 * (precision * recall) / (precision + recall)\n",
      "C:\\Users\\andra\\AppData\\Local\\Temp\\ipykernel_5020\\91800253.py:29: RuntimeWarning: invalid value encountered in divide\n",
      "  f1_scores = 2 * (precision * recall) / (precision + recall)\n",
      "C:\\Users\\andra\\AppData\\Local\\Temp\\ipykernel_5020\\91800253.py:29: RuntimeWarning: invalid value encountered in divide\n",
      "  f1_scores = 2 * (precision * recall) / (precision + recall)\n",
      "C:\\Users\\andra\\AppData\\Local\\Temp\\ipykernel_5020\\91800253.py:29: RuntimeWarning: invalid value encountered in divide\n",
      "  f1_scores = 2 * (precision * recall) / (precision + recall)\n",
      "C:\\Users\\andra\\AppData\\Local\\Temp\\ipykernel_5020\\91800253.py:29: RuntimeWarning: invalid value encountered in divide\n",
      "  f1_scores = 2 * (precision * recall) / (precision + recall)\n",
      "C:\\Users\\andra\\AppData\\Local\\Temp\\ipykernel_5020\\91800253.py:29: RuntimeWarning: invalid value encountered in divide\n",
      "  f1_scores = 2 * (precision * recall) / (precision + recall)\n",
      "C:\\Users\\andra\\AppData\\Local\\Temp\\ipykernel_5020\\91800253.py:29: RuntimeWarning: invalid value encountered in divide\n",
      "  f1_scores = 2 * (precision * recall) / (precision + recall)\n",
      "C:\\Users\\andra\\AppData\\Local\\Temp\\ipykernel_5020\\91800253.py:29: RuntimeWarning: invalid value encountered in divide\n",
      "  f1_scores = 2 * (precision * recall) / (precision + recall)\n",
      "C:\\Users\\andra\\AppData\\Local\\Temp\\ipykernel_5020\\91800253.py:29: RuntimeWarning: invalid value encountered in divide\n",
      "  f1_scores = 2 * (precision * recall) / (precision + recall)\n"
     ]
    },
    {
     "name": "stdout",
     "output_type": "stream",
     "text": [
      "progress: 16.67%\n"
     ]
    },
    {
     "name": "stderr",
     "output_type": "stream",
     "text": [
      "C:\\Users\\andra\\AppData\\Local\\Temp\\ipykernel_5020\\91800253.py:29: RuntimeWarning: invalid value encountered in divide\n",
      "  f1_scores = 2 * (precision * recall) / (precision + recall)\n",
      "C:\\Users\\andra\\AppData\\Local\\Temp\\ipykernel_5020\\91800253.py:29: RuntimeWarning: invalid value encountered in divide\n",
      "  f1_scores = 2 * (precision * recall) / (precision + recall)\n",
      "C:\\Users\\andra\\AppData\\Local\\Temp\\ipykernel_5020\\91800253.py:29: RuntimeWarning: invalid value encountered in divide\n",
      "  f1_scores = 2 * (precision * recall) / (precision + recall)\n",
      "C:\\Users\\andra\\AppData\\Local\\Temp\\ipykernel_5020\\91800253.py:29: RuntimeWarning: invalid value encountered in divide\n",
      "  f1_scores = 2 * (precision * recall) / (precision + recall)\n",
      "C:\\Users\\andra\\AppData\\Local\\Temp\\ipykernel_5020\\91800253.py:29: RuntimeWarning: invalid value encountered in divide\n",
      "  f1_scores = 2 * (precision * recall) / (precision + recall)\n",
      "C:\\Users\\andra\\AppData\\Local\\Temp\\ipykernel_5020\\91800253.py:29: RuntimeWarning: invalid value encountered in divide\n",
      "  f1_scores = 2 * (precision * recall) / (precision + recall)\n",
      "C:\\Users\\andra\\AppData\\Local\\Temp\\ipykernel_5020\\91800253.py:29: RuntimeWarning: invalid value encountered in divide\n",
      "  f1_scores = 2 * (precision * recall) / (precision + recall)\n"
     ]
    },
    {
     "name": "stdout",
     "output_type": "stream",
     "text": [
      "progress: 25.0%\n",
      "progress: 33.33%\n",
      "progress: 41.67%\n",
      "progress: 50.0%\n",
      "progress: 58.33%\n"
     ]
    },
    {
     "name": "stderr",
     "output_type": "stream",
     "text": [
      "C:\\Users\\andra\\AppData\\Local\\Temp\\ipykernel_5020\\91800253.py:29: RuntimeWarning: invalid value encountered in divide\n",
      "  f1_scores = 2 * (precision * recall) / (precision + recall)\n",
      "C:\\Users\\andra\\AppData\\Local\\Temp\\ipykernel_5020\\91800253.py:29: RuntimeWarning: invalid value encountered in divide\n",
      "  f1_scores = 2 * (precision * recall) / (precision + recall)\n",
      "C:\\Users\\andra\\AppData\\Local\\Temp\\ipykernel_5020\\91800253.py:29: RuntimeWarning: invalid value encountered in divide\n",
      "  f1_scores = 2 * (precision * recall) / (precision + recall)\n"
     ]
    },
    {
     "name": "stdout",
     "output_type": "stream",
     "text": [
      "progress: 66.67%\n"
     ]
    },
    {
     "name": "stderr",
     "output_type": "stream",
     "text": [
      "C:\\Users\\andra\\AppData\\Local\\Temp\\ipykernel_5020\\91800253.py:29: RuntimeWarning: invalid value encountered in divide\n",
      "  f1_scores = 2 * (precision * recall) / (precision + recall)\n"
     ]
    },
    {
     "name": "stdout",
     "output_type": "stream",
     "text": [
      "progress: 75.0%\n"
     ]
    },
    {
     "name": "stderr",
     "output_type": "stream",
     "text": [
      "C:\\Users\\andra\\AppData\\Local\\Temp\\ipykernel_5020\\91800253.py:29: RuntimeWarning: invalid value encountered in divide\n",
      "  f1_scores = 2 * (precision * recall) / (precision + recall)\n",
      "C:\\Users\\andra\\AppData\\Local\\Temp\\ipykernel_5020\\91800253.py:29: RuntimeWarning: invalid value encountered in divide\n",
      "  f1_scores = 2 * (precision * recall) / (precision + recall)\n"
     ]
    },
    {
     "name": "stdout",
     "output_type": "stream",
     "text": [
      "progress: 83.33%\n"
     ]
    },
    {
     "name": "stderr",
     "output_type": "stream",
     "text": [
      "C:\\Users\\andra\\AppData\\Local\\Temp\\ipykernel_5020\\91800253.py:29: RuntimeWarning: invalid value encountered in divide\n",
      "  f1_scores = 2 * (precision * recall) / (precision + recall)\n",
      "C:\\Users\\andra\\AppData\\Local\\Temp\\ipykernel_5020\\91800253.py:29: RuntimeWarning: invalid value encountered in divide\n",
      "  f1_scores = 2 * (precision * recall) / (precision + recall)\n"
     ]
    },
    {
     "name": "stdout",
     "output_type": "stream",
     "text": [
      "progress: 91.67%\n"
     ]
    },
    {
     "name": "stderr",
     "output_type": "stream",
     "text": [
      "C:\\Users\\andra\\AppData\\Local\\Temp\\ipykernel_5020\\91800253.py:29: RuntimeWarning: invalid value encountered in divide\n",
      "  f1_scores = 2 * (precision * recall) / (precision + recall)\n",
      "C:\\Users\\andra\\AppData\\Local\\Temp\\ipykernel_5020\\91800253.py:29: RuntimeWarning: invalid value encountered in divide\n",
      "  f1_scores = 2 * (precision * recall) / (precision + recall)\n"
     ]
    },
    {
     "name": "stdout",
     "output_type": "stream",
     "text": [
      "progress: 100.0%\n"
     ]
    },
    {
     "name": "stderr",
     "output_type": "stream",
     "text": [
      "C:\\Users\\andra\\AppData\\Local\\Temp\\ipykernel_5020\\91800253.py:29: RuntimeWarning: invalid value encountered in divide\n",
      "  f1_scores = 2 * (precision * recall) / (precision + recall)\n",
      "C:\\Users\\andra\\AppData\\Local\\Temp\\ipykernel_5020\\91800253.py:29: RuntimeWarning: invalid value encountered in divide\n",
      "  f1_scores = 2 * (precision * recall) / (precision + recall)\n"
     ]
    },
    {
     "name": "stdout",
     "output_type": "stream",
     "text": [
      "Training: rf\n",
      "progress: 6.25%\n"
     ]
    },
    {
     "name": "stderr",
     "output_type": "stream",
     "text": [
      "C:\\Users\\andra\\AppData\\Local\\Temp\\ipykernel_5020\\91800253.py:29: RuntimeWarning: invalid value encountered in divide\n",
      "  f1_scores = 2 * (precision * recall) / (precision + recall)\n",
      "C:\\Users\\andra\\AppData\\Local\\Temp\\ipykernel_5020\\91800253.py:29: RuntimeWarning: invalid value encountered in divide\n",
      "  f1_scores = 2 * (precision * recall) / (precision + recall)\n"
     ]
    },
    {
     "name": "stdout",
     "output_type": "stream",
     "text": [
      "progress: 16.67%\n"
     ]
    },
    {
     "name": "stderr",
     "output_type": "stream",
     "text": [
      "C:\\Users\\andra\\AppData\\Local\\Temp\\ipykernel_5020\\91800253.py:29: RuntimeWarning: invalid value encountered in divide\n",
      "  f1_scores = 2 * (precision * recall) / (precision + recall)\n",
      "C:\\Users\\andra\\AppData\\Local\\Temp\\ipykernel_5020\\91800253.py:29: RuntimeWarning: invalid value encountered in divide\n",
      "  f1_scores = 2 * (precision * recall) / (precision + recall)\n",
      "C:\\Users\\andra\\AppData\\Local\\Temp\\ipykernel_5020\\91800253.py:29: RuntimeWarning: invalid value encountered in divide\n",
      "  f1_scores = 2 * (precision * recall) / (precision + recall)\n",
      "C:\\Users\\andra\\AppData\\Local\\Temp\\ipykernel_5020\\91800253.py:29: RuntimeWarning: invalid value encountered in divide\n",
      "  f1_scores = 2 * (precision * recall) / (precision + recall)\n"
     ]
    },
    {
     "name": "stdout",
     "output_type": "stream",
     "text": [
      "progress: 27.08%\n"
     ]
    },
    {
     "name": "stderr",
     "output_type": "stream",
     "text": [
      "C:\\Users\\andra\\AppData\\Local\\Temp\\ipykernel_5020\\91800253.py:29: RuntimeWarning: invalid value encountered in divide\n",
      "  f1_scores = 2 * (precision * recall) / (precision + recall)\n"
     ]
    },
    {
     "name": "stdout",
     "output_type": "stream",
     "text": [
      "progress: 37.5%\n"
     ]
    },
    {
     "name": "stderr",
     "output_type": "stream",
     "text": [
      "C:\\Users\\andra\\AppData\\Local\\Temp\\ipykernel_5020\\91800253.py:29: RuntimeWarning: invalid value encountered in divide\n",
      "  f1_scores = 2 * (precision * recall) / (precision + recall)\n"
     ]
    },
    {
     "name": "stdout",
     "output_type": "stream",
     "text": [
      "progress: 47.92%\n"
     ]
    },
    {
     "name": "stderr",
     "output_type": "stream",
     "text": [
      "C:\\Users\\andra\\AppData\\Local\\Temp\\ipykernel_5020\\91800253.py:29: RuntimeWarning: invalid value encountered in divide\n",
      "  f1_scores = 2 * (precision * recall) / (precision + recall)\n"
     ]
    },
    {
     "name": "stdout",
     "output_type": "stream",
     "text": [
      "progress: 58.33%\n",
      "progress: 68.75%\n",
      "progress: 79.17%\n",
      "progress: 89.58%\n",
      "progress: 100.0%\n",
      "trees: 76, depth: 6, recall: 0.7620161392807219, accuracy: 0.6893299785667691, threshold: 0.4673888833986119\n",
      "dim: 3, k: 24, recall: 0.7399078663108399, accuracy: 0.6920976609822012, threshold: 0.4166666666666667\n"
     ]
    }
   ],
   "source": [
    "from sklearn.model_selection import GroupShuffleSplit, StratifiedGroupKFold,GroupKFold\n",
    "from sklearn.preprocessing import StandardScaler\n",
    "file_features = 'train_75_people_data.csv'\n",
    "feature_names = ['H_value', 'S_value', 'V_value', 'red_presence', 'brown_presence', 'blue_presence', 'pink_presence', 'white_presence','black_presence','atypical_pigment_network', 'blue-white_veil', 'asymmetry_values']\n",
    "\n",
    "# Load the features - remember the example features are not informative\n",
    "df_features = pd.read_csv(file_features)\n",
    "\n",
    "# Make the dataset, you can select different classes (see task 0)\n",
    "x = np.array(df_features[feature_names])\n",
    "y =  df_features['cancer_or_not']   #now True means healthy nevus, False means something else\n",
    "patient_id = df_features['person_id']\n",
    "\n",
    "#Prepare cross-validation - images from the same patient must always stay together\n",
    "num_folds = 5\n",
    "group_kfold = GroupKFold(n_splits=num_folds)\n",
    "group_kfold.get_n_splits(x, y, patient_id)\n",
    "scaler = StandardScaler()\n",
    "X_scaled_train_data = scaler.fit_transform(df_features[feature_names])\n",
    "\n",
    "\n",
    "rf_cv_scores = [] # creating list of cv scores\n",
    "rf_ds_list=list(range(1,16)) # creating list of depths for rf\n",
    "best_rf_depth=0  # best depth found after cv\n",
    "\n",
    "model_validator = Models_validator(X_scaled_train_data,y)\n",
    "\n",
    "#knn_results = model_validator.maximize_score('knn',range(3,4),range(1,27),score_label=\"roc_auc\")\n",
    "#rf_results = model_validator.maximize_score('rf',range(71,72),range(1,7),score_label=\"roc_auc\")\n",
    "knn_results = model_validator.maximize_score('knn',range(1,13),range(1,27),score_label=\"roc_auc\")\n",
    "rf_results = model_validator.maximize_score('rf',range(6,98,10),range(1,7),score_label=\"roc_auc\")\n",
    "\n",
    "trees=rf_results[\"p1\"]\n",
    "depth=rf_results[\"p2\"]\n",
    "\n",
    "rf_recall=rf_results[\"score\"]\n",
    "rf_accuracy=rf_results[\"accuracy\"]\n",
    "rf_threshold=rf_results[\"best_threshold\"]\n",
    "\n",
    "print(f\"trees: {trees}, depth: {depth}, recall: {rf_recall}, accuracy: {rf_accuracy}, threshold: {rf_threshold}\")\n",
    "\n",
    "dim=knn_results[\"p1\"]\n",
    "k=knn_results[\"p2\"]\n",
    "\n",
    "knn_recall=knn_results[\"score\"]\n",
    "knn_accuracy=knn_results[\"accuracy\"]\n",
    "knn_threshold=knn_results[\"best_threshold\"]\n",
    "\n",
    "print(f\"dim: {dim}, k: {k}, recall: {knn_recall}, accuracy: {knn_accuracy}, threshold: {knn_threshold}\")"
   ]
  },
  {
   "cell_type": "code",
   "execution_count": null,
   "id": "b37940a9",
   "metadata": {},
   "outputs": [],
   "source": []
  }
 ],
 "metadata": {
  "kernelspec": {
   "display_name": "Python 3",
   "language": "python",
   "name": "python3"
  },
  "language_info": {
   "codemirror_mode": {
    "name": "ipython",
    "version": 3
   },
   "file_extension": ".py",
   "mimetype": "text/x-python",
   "name": "python",
   "nbconvert_exporter": "python",
   "pygments_lexer": "ipython3",
   "version": "3.11.4"
  }
 },
 "nbformat": 4,
 "nbformat_minor": 5
}
