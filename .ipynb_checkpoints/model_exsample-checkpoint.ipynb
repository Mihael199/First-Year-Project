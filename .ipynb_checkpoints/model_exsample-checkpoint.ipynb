{
 "cells": [
  {
   "cell_type": "code",
   "execution_count": 3,
   "id": "5a56878d-9312-48e6-ba35-045ef519c14a",
   "metadata": {},
   "outputs": [],
   "source": [
    "import numpy as np\n",
    "from sklearn.preprocessing import StandardScaler\n",
    "from sklearn.linear_model import LogisticRegression\n",
    "from sklearn.metrics import accuracy_score, precision_score, recall_score, f1_score\n",
    "from sklearn.feature_selection import RFE\n",
    "import pandas as pd"
   ]
  },
  {
   "cell_type": "code",
   "execution_count": 27,
   "id": "097a1a22-e4d6-4ac5-b01f-83f60a4bfd39",
   "metadata": {},
   "outputs": [],
   "source": [
    "# Load the data\n",
    "sti_features = 'features_optimized_3.csv'\n",
    "data = pd.read_csv(sti_features)"
   ]
  },
  {
   "cell_type": "code",
   "execution_count": 190,
   "id": "3963fd00-359f-4819-aabd-0eaa9ad67393",
   "metadata": {},
   "outputs": [
    {
     "name": "stdout",
     "output_type": "stream",
     "text": [
      "Accuracy: 0.6431492842535788\n",
      "Precision: 0.6656848306332842\n",
      "Recall: 0.7874564459930313\n",
      "F1 Score: 0.7214684756584197\n"
     ]
    },
    {
     "data": {
      "text/plain": [
       "['H_value', 'V_value', 'white_presence', 'blue-white_veil', 'asymmetry_values']"
      ]
     },
     "execution_count": 190,
     "metadata": {},
     "output_type": "execute_result"
    }
   ],
   "source": [
    "\n",
    "\n",
    "# Assuming 'data' and 'y' are already defined\n",
    "#X = data[['H_value', 'S_value', 'V_value', 'red_presence', 'brown_presence', 'blue_presence', 'pink_presence', 'black_presence', 'atypicturesal', 'blue-whiteveils', 'asymmetry_values']]\n",
    "X = data[['H_value', 'S_value', 'V_value', 'red_presence', 'brown_presence', 'blue_presence', 'pink_presence', 'white_presence','black_presence','atypical_pigment_network', 'blue-white_veil', 'asymmetry_values']]\n",
    "#X = data[['H_value', 'S_value', 'V_value', 'red_presence', 'brown_presence', 'blue_presence', 'pink_presence', 'white_presence','black_presence','atypical_pigment_network', 'blue-white_veil', 'asymmetry_values']]\n",
    "y=data['cancer_or_not']\n",
    "\n",
    "scaler = StandardScaler()\n",
    "X_scaled = scaler.fit_transform(X)\n",
    "\n",
    "\n",
    "selector = RFE(LogisticRegression(), n_features_to_select=5) # Selects the top 5 features\n",
    "X_selected = selector.fit_transform(X_scaled, y)\n",
    "clf = LogisticRegression().fit(X_selected, y)\n",
    "# Train the model\n",
    "\n",
    "\n",
    "\n",
    "\n",
    "# Get probabilities of the positive class\n",
    "probabilities = clf.predict_proba(X_selected)[:, 1]\n",
    "\n",
    "threshold = 0.53\n",
    "predictions = np.where(probabilities >= threshold, 1, 0)  # 1 if >= 0.6 else 0\n",
    "\n",
    "\n",
    "# Print new predictions with custom threshold\n",
    "#print(predictions)\n",
    "\n",
    "# Evaluate model\n",
    "print(\"Accuracy:\", accuracy_score(y, predictions))\n",
    "print(\"Precision:\", precision_score(y, predictions))\n",
    "print(\"Recall:\", recall_score(y, predictions))\n",
    "print(\"F1 Score:\", f1_score(y, predictions))\n",
    "\n",
    "\n",
    "seleced_features_after = []\n",
    "for x in range(len(selector.support_)):\n",
    "    if selector.support_[x] == True:\n",
    "        seleced_features_after.append(X.columns.values[x])\n",
    "        \n",
    "        \n",
    "seleced_features_after"
   ]
  },
  {
   "cell_type": "code",
   "execution_count": null,
   "id": "f9506935-aba6-400c-acb3-dbf02b3e49fd",
   "metadata": {},
   "outputs": [],
   "source": [
    "from sklearn.metrics import confusion_matrix, classification_report\n",
    "# Confusion Matrix\n",
    "conf_matrix = confusion_matrix(y, predictions)\n",
    "print(\"Confusion Matrix:\")\n",
    "print(conf_matrix)\n",
    "\n",
    "# Classification Report\n",
    "class_report = classification_report(y, predictions)\n",
    "print(\"Classification Report:\")\n",
    "print(class_report)"
   ]
  },
  {
   "cell_type": "code",
   "execution_count": null,
   "id": "57dd2b34-7314-4902-a42e-00cc302243c8",
   "metadata": {},
   "outputs": [],
   "source": [
    "import pandas as pd\n",
    "from sklearn.model_selection import train_test_split\n",
    "from sklearn.ensemble import RandomForestClassifier\n",
    "from sklearn.metrics import accuracy_score\n",
    "from sklearn.preprocessing import StandardScaler\n",
    "from sklearn.neighbors import KNeighborsClassifier\n",
    "\n",
    "# Load the data\n",
    "#sti_features = '/Users/sunechristiansen/sune/ds_project/mdasm-2024/features.csv'\n",
    "#data = pd.read_csv(sti_features)\n",
    "#data = combined_df\n",
    "\n",
    "# Separate features and target\n",
    "feature_columns= ['H_value', 'S_value', 'V_value', 'red_presence', 'brown_presence', 'blue_presence', 'pink_presence', 'white_presence','black_presence','atypical_pigment_network', 'blue-white_veil', 'asymmetry_values']\n",
    "#feature_columns = ['H_value', 'V_value', 'white_presence', 'blue-white_veil', 'asymmetry_values']\n",
    "X = data[feature_columns]\n",
    "y = data['cancer_or_not']\n",
    "\n",
    "# Split the data into training and testing sets\n",
    "X_train, X_test, y_train, y_test = train_test_split(X, y, test_size=0.3, stratify=y)\n",
    "\n",
    "# Initialize the scaler\n",
    "scaler = StandardScaler()\n",
    "# Fit on training data and transform it\n",
    "X_train_scaled = scaler.fit_transform(X_train)\n",
    "# Transform test data with the same scaler\n",
    "X_test_scaled = scaler.transform(X_test)\n",
    "\n",
    "\n",
    "accuracies = list()\n",
    "n=15\n",
    "classifier=\"rf\"\n",
    "\n",
    "for i in range(n):\n",
    "    # Initialize the Random Forest classifier\n",
    "    rf_classifier=0\n",
    "    if classifier == \"rf\":\n",
    "        rf_classifier = RandomForestClassifier(n_estimators=1000, max_depth=5, bootstrap=True)\n",
    "    elif classifier == \"kn\":\n",
    "        rf_classifier = KNeighborsClassifier(n_neighbors=25)\n",
    "    # Train the model using the scaled feature columns\n",
    "    rf_classifier.fit(X_train_scaled, y_train)\n",
    "    # Make predictions using the scaled test feature columns\n",
    "    predictions = rf_classifier.predict(X_test_scaled)\n",
    "    # Calculate the accuracy\n",
    "    accuracy = accuracy_score(y_test, predictions)\n",
    "    accuracies.append(accuracy)\n",
    "    #print(f'Accuracy of the Random Forest classifier is: {accuracy:.2f}')\n",
    "print(sum(accuracies)/len(accuracies))"
   ]
  }
 ],
 "metadata": {
  "kernelspec": {
   "display_name": "Python 3 (ipykernel)",
   "language": "python",
   "name": "python3"
  },
  "language_info": {
   "codemirror_mode": {
    "name": "ipython",
    "version": 3
   },
   "file_extension": ".py",
   "mimetype": "text/x-python",
   "name": "python",
   "nbconvert_exporter": "python",
   "pygments_lexer": "ipython3",
   "version": "3.11.4"
  }
 },
 "nbformat": 4,
 "nbformat_minor": 5
}
